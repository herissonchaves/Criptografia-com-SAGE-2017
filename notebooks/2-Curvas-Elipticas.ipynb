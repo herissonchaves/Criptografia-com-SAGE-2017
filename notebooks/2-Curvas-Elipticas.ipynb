{
 "cells": [
  {
   "cell_type": "markdown",
   "metadata": {},
   "source": [
    "# Curvas Elípticas"
   ]
  },
  {
   "cell_type": "markdown",
   "metadata": {},
   "source": [
    "As curvas elípticas não são elipses. Eles são assim chamados porque são descritas por Equações cúbicas, semelhantes às utilizadas para calcular a circunferência de uma elipse. Em geral as equações cúbicas para curvas elípticas em $\\mathbb{R}$ são descritas pela Equação de Weierstrass, sendo os pontos $(x, y)$ que satisfazem:\n",
    "\n",
    "$$ y^2 + axy + by = x^3 + cx^2 + dx + e $$\n",
    "Onde $a, b, c, d, e \\in \\mathbb{R}$.\n",
    "\n",
    "Para facilitar a visualização e diminuir o escopo deste trabalho, nos limitaremos apenas às curvas da forma:\n",
    "$$ y^2 = x^3 + ax + b$$"
   ]
  },
  {
   "cell_type": "markdown",
   "metadata": {},
   "source": [
    "## SAGE: Construtor de Curvas Elípticas"
   ]
  },
  {
   "cell_type": "markdown",
   "metadata": {},
   "source": [
    "Fonte: Documentação do SAGE [[1]](https://doc.sagemath.org/html/en/reference/curves/sage/schemes/elliptic_curves/constructor.html).\n",
    "\n",
    "\n",
    "> In Sage, an elliptic curve is always specified by (the coefficients of) a long Weierstrass equation\n",
    "> \n",
    "> $$y^2 + a_1 xy + a_3 y = x^3 + a_2 x^2 + a_4 x + a_6$$"
   ]
  },
  {
   "cell_type": "markdown",
   "metadata": {},
   "source": [
    "### Exemplo: Curva $y^2 = x^3 - 3x^2 + 5$"
   ]
  },
  {
   "cell_type": "markdown",
   "metadata": {},
   "source": [
    "$$ y^2 + 0\\cdot xy + 0\\cdot y = x^3 + 0\\cdot x^2 + (-3)\\cdot x + 5$$"
   ]
  },
  {
   "cell_type": "code",
   "execution_count": 10,
   "metadata": {
    "collapsed": false
   },
   "outputs": [
    {
     "data": {
      "text/plain": [
       "Elliptic Curve defined by y^2 = x^3 - 3*x + 5 over Rational Field"
      ]
     },
     "execution_count": 10,
     "metadata": {},
     "output_type": "execute_result"
    }
   ],
   "source": [
    "E = EllipticCurve([0,0,0,-3,5])\n",
    "E"
   ]
  },
  {
   "cell_type": "code",
   "execution_count": 11,
   "metadata": {
    "collapsed": false
   },
   "outputs": [
    {
     "data": {
      "image/png": "[encoded data removed]",
      "text/plain": [
       "Graphics object consisting of 1 graphics primitive"
      ]
     },
     "execution_count": 11,
     "metadata": {},
     "output_type": "execute_result"
    }
   ],
   "source": [
    "plot(E, thickness=1)"
   ]
  },
  {
   "cell_type": "markdown",
   "metadata": {},
   "source": [
    "## Curva Elítptica sobre $\\mathbb{Z}_p$"
   ]
  },
  {
   "cell_type": "markdown",
   "metadata": {},
   "source": [
    "Uma curva elíptica sobre um corpo finito $\\mathbb{Z}_p, p>3$, é o conjunto de todos os pares $(x,y) \\in \\mathbb{Z}^2_p$  tal que:\n",
    "\n",
    "$$ y^2 \\equiv x^3 + ax + b \\pmod{p} $$\n",
    "\n",
    "incluindo o ponto $\\mathcal{O}$, chamado de ponto no infinito e $a,b \\in \\mathbb{Z}_p$ obedecem a relação:\n",
    "\n",
    "$$4a^3 + 27b^2 \\not \\equiv 0 $$"
   ]
  },
  {
   "cell_type": "markdown",
   "metadata": {},
   "source": [
    "### Operações no Grupo"
   ]
  },
  {
   "cell_type": "markdown",
   "metadata": {},
   "source": [
    "Denotaremos a operação no grupo pelo símbolo de adição \"$+$\". Por adição nos referimos à seguinte operação: Dados dois pontos $P, Q \\in E$, $P = (x_1,y_1), Q = (x_2, y_2)$, devemos computar as coordenadas de um terceiro ponto R tal\n",
    "que:\n",
    "\n",
    "\\begin{align*}\n",
    "    P + Q &= R\\\\\n",
    "    (x_1, y_1) + (x_2, y_2) &= (x_3, y_3)\n",
    "\\end{align*}\n",
    "onde as coordenadas do ponto $R$ serão:\n",
    "\\begin{align*}\n",
    "    x_3 &= s^2 - x_1 - x_2 \\pmod{p}\\\\\n",
    "    y_3 &= s(x_1 - x_3 ) - y_1 \\pmod{p}\n",
    "\\end{align*}\n",
    "onde:\n",
    "    $$ s = \\left\\{\\begin{matrix}\n",
    "\\frac{y_2 - y_1}{x_2 - x_1} & \\text{se } P_1 \\ne P_2 \\\\\n",
    " & \\\\\n",
    "\\frac{3x_1^2 + a}{2y_1} &  \\text{se } P_1 = P_2\n",
    "\\end{matrix}\\right.$$\n"
   ]
  },
  {
   "cell_type": "markdown",
   "metadata": {
    "collapsed": true
   },
   "source": [
    "## Diffie Hellman num Grupo Aditivo $E$"
   ]
  },
  {
   "cell_type": "markdown",
   "metadata": {},
   "source": [
    "* Escolha $P \\in E$\n",
    "* Alice e Bob geram $a,b$ aleatoriamente, Alice envia $aP$ e Bob envia $bP$.\n",
    "    \n",
    "    $$ aP = \\underbrace{P + P + \\ldots + P}_{\\text{a vezes}} $$\n",
    "    $$ bP = \\underbrace{P + P + \\ldots + P}_{\\text{b vezes}} $$\n",
    "\n",
    "* O segredo compartilhado é $abP$."
   ]
  },
  {
   "cell_type": "markdown",
   "metadata": {},
   "source": [
    "## SAGE: Construtor de Curvas Elípticas"
   ]
  },
  {
   "cell_type": "code",
   "execution_count": null,
   "metadata": {
    "collapsed": true
   },
   "outputs": [],
   "source": [
    "p = next_prime(2^1000)"
   ]
  },
  {
   "cell_type": "code",
   "execution_count": null,
   "metadata": {
    "collapsed": true
   },
   "outputs": [],
   "source": [
    "p"
   ]
  },
  {
   "cell_type": "code",
   "execution_count": 5,
   "metadata": {
    "collapsed": true
   },
   "outputs": [],
   "source": [
    "F = FiniteField(p)"
   ]
  },
  {
   "cell_type": "code",
   "execution_count": 6,
   "metadata": {
    "collapsed": false
   },
   "outputs": [
    {
     "data": {
      "text/plain": [
       "Finite Field of size 10715086071862673209484250490600018105614048117055336074437503883703510511249361224931983788156958581275946729175531468251871452856923140435984577574698574803934567774824230985421074605062371141877954182153046474983581941267398767559165543946077062914571196477686542167660429831652624386837205668069673"
      ]
     },
     "execution_count": 6,
     "metadata": {},
     "output_type": "execute_result"
    }
   ],
   "source": [
    "F"
   ]
  },
  {
   "cell_type": "code",
   "execution_count": 7,
   "metadata": {
    "collapsed": true
   },
   "outputs": [],
   "source": [
    "C = EllipticCurve(F, [2, 3])"
   ]
  },
  {
   "cell_type": "code",
   "execution_count": 8,
   "metadata": {
    "collapsed": false
   },
   "outputs": [
    {
     "data": {
      "text/plain": [
       "Elliptic Curve defined by y^2 = x^3 + 2*x + 3 over Finite Field of size 10715086071862673209484250490600018105614048117055336074437503883703510511249361224931983788156958581275946729175531468251871452856923140435984577574698574803934567774824230985421074605062371141877954182153046474983581941267398767559165543946077062914571196477686542167660429831652624386837205668069673"
      ]
     },
     "execution_count": 8,
     "metadata": {},
     "output_type": "execute_result"
    }
   ],
   "source": [
    "C"
   ]
  },
  {
   "cell_type": "markdown",
   "metadata": {
    "collapsed": true
   },
   "source": [
    "## Curva M-221 [[2013 Aranha–Barreto–Pereira–Ricardini]](https://eprint.iacr.org/2013/647.pdf)"
   ]
  },
  {
   "cell_type": "markdown",
   "metadata": {},
   "source": [
    "$$ y^2 = x^3+117050x^2+x \\pmod{ 2^{221} - 3 }$$"
   ]
  },
  {
   "cell_type": "code",
   "execution_count": 1,
   "metadata": {
    "collapsed": true
   },
   "outputs": [],
   "source": [
    "p = 2^(221) - 3"
   ]
  },
  {
   "cell_type": "code",
   "execution_count": 2,
   "metadata": {
    "collapsed": false
   },
   "outputs": [],
   "source": [
    "F = FiniteField(p)"
   ]
  },
  {
   "cell_type": "code",
   "execution_count": 6,
   "metadata": {
    "collapsed": false
   },
   "outputs": [],
   "source": [
    "E = EllipticCurve(F, [0, 117050, 0, 1, 0])"
   ]
  },
  {
   "cell_type": "code",
   "execution_count": 7,
   "metadata": {
    "collapsed": false
   },
   "outputs": [
    {
     "data": {
      "text/plain": [
       "Elliptic Curve defined by y^2 = x^3 + 117050*x^2 + x over Finite Field of size 3369993333393829974333376885877453834204643052817571560137951281149"
      ]
     },
     "execution_count": 7,
     "metadata": {},
     "output_type": "execute_result"
    }
   ],
   "source": [
    "E"
   ]
  },
  {
   "cell_type": "code",
   "execution_count": 6,
   "metadata": {
    "collapsed": false
   },
   "outputs": [
    {
     "data": {
      "image/png": "[encoded data removed]",
      "text/plain": [
       "Graphics object consisting of 2 graphics primitives"
      ]
     },
     "execution_count": 6,
     "metadata": {},
     "output_type": "execute_result"
    }
   ],
   "source": [
    "plot(E)"
   ]
  },
  {
   "cell_type": "markdown",
   "metadata": {},
   "source": [
    "## Curva M-383 [[2013 Aranha–Barreto–Pereira–Ricardini]](https://eprint.iacr.org/2013/647.pdf)"
   ]
  },
  {
   "cell_type": "markdown",
   "metadata": {},
   "source": [
    "$$ y^2 = x^3+2065150x^2+x  \\pmod{2^{383} - 187} $$"
   ]
  },
  {
   "cell_type": "markdown",
   "metadata": {},
   "source": [
    "## Curva M-511 [[2013 Aranha–Barreto–Pereira–Ricardini]](https://eprint.iacr.org/2013/647.pdf)"
   ]
  },
  {
   "cell_type": "markdown",
   "metadata": {},
   "source": [
    "$$ y^2 = x^3+530438x^2+x \\pmod{ 2^511 - 187 } $$"
   ]
  },
  {
   "cell_type": "code",
   "execution_count": null,
   "metadata": {
    "collapsed": true
   },
   "outputs": [],
   "source": []
  }
 ],
 "metadata": {
  "kernelspec": {
   "display_name": "SageMath 7.5.1",
   "language": "",
   "name": "sagemath"
  },
  "language_info": {
   "codemirror_mode": {
    "name": "ipython",
    "version": 2
   },
   "file_extension": ".py",
   "mimetype": "text/x-python",
   "name": "python",
   "nbconvert_exporter": "python",
   "pygments_lexer": "ipython2",
   "version": "2.7.13"
  }
 },
 "nbformat": 4,
 "nbformat_minor": 1
}
