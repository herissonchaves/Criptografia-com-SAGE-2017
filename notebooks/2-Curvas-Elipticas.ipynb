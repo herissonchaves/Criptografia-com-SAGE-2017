{
 "cells": [
  {
   "cell_type": "markdown",
   "metadata": {},
   "source": [
    "# Curvas Elípticas"
   ]
  },
  {
   "cell_type": "markdown",
   "metadata": {},
   "source": [
    "As curvas elípticas não são elipses. Eles são assim chamados porque são descritas por Equações cúbicas, semelhantes às utilizadas para calcular a circunferência de uma elipse. Em geral as equações cúbicas para curvas elípticas em $\\mathbb{R}$ são descritas pela Equação de Weierstrass, sendo os pontos $(x, y)$ que satisfazem:\n",
    "\n",
    "$$ y^2 + axy + by = x^3 + cx^2 + dx + e $$\n",
    "Onde $a, b, c, d, e \\in \\mathbb{R}$."
   ]
  },
  {
   "cell_type": "markdown",
   "metadata": {},
   "source": [
    "Para facilitar a visualização e diminuir o escopo deste trabalho, nos limitaremos apenas às curvas da forma:\n",
    "$$ y^2 = x^3 + ax + b$$"
   ]
  },
  {
   "cell_type": "markdown",
   "metadata": {},
   "source": [
    "## Curva Elítptica sobre $\\mathbb{Z}_p$"
   ]
  },
  {
   "cell_type": "markdown",
   "metadata": {},
   "source": [
    "Uma curva elíptica sobre um corpo finito $\\mathbb{Z}_p, p>3$, é o conjunto de todos os pares $(x,y) \\in \\mathbb{Z}^2_p$  tal que:\n",
    "\n",
    "$$ y^2 \\equiv x^3 + ax + b \\pmod{p} $$\n",
    "\n",
    "incluindo o ponto $\\mathcal{O}$, chamado de ponto no infinito e $a,b \\in \\mathbb{Z}_p$ obedecem a relação:\n",
    "\n",
    "$$4a^3 + 27b^2 \\not \\equiv 0 $$"
   ]
  },
  {
   "cell_type": "markdown",
   "metadata": {},
   "source": [
    "### Operações no Grupo"
   ]
  },
  {
   "cell_type": "markdown",
   "metadata": {},
   "source": [
    "Denotaremos a operação no grupo pelo símbolo de adição \"$+$\". Por adição nos referimos à seguinte operação: Dados dois pontos $P, Q \\in E$, $P = (x_1,y_1), Q = (x_2, y_2)$, devemos computar as coordenadas de um terceiro ponto R tal\n",
    "que:\n",
    "\n",
    "\\begin{align*}\n",
    "    P + Q &= R\\\\\n",
    "    (x_1, y_1) + (x_2, y_2) &= (x_3, y_3)\n",
    "\\end{align*}\n",
    "onde as coordenadas do ponto $R$ serão:\n",
    "\\begin{align*}\n",
    "    x_3 &= s^2 - x_1 - x_2 \\pmod{p}\\\\\n",
    "    y_3 &= s(x_1 - x_3 ) - y_1 \\pmod{p}\n",
    "\\end{align*}\n",
    "onde:\n",
    "    $$ S = $$\n"
   ]
  },
  {
   "cell_type": "code",
   "execution_count": null,
   "metadata": {
    "collapsed": true
   },
   "outputs": [],
   "source": []
  },
  {
   "cell_type": "code",
   "execution_count": null,
   "metadata": {
    "collapsed": true
   },
   "outputs": [],
   "source": []
  },
  {
   "cell_type": "markdown",
   "metadata": {},
   "source": [
    "## Implementação"
   ]
  },
  {
   "cell_type": "code",
   "execution_count": null,
   "metadata": {
    "collapsed": true
   },
   "outputs": [],
   "source": [
    "p = next_prime(2^1000)"
   ]
  },
  {
   "cell_type": "code",
   "execution_count": null,
   "metadata": {
    "collapsed": true
   },
   "outputs": [],
   "source": [
    "p"
   ]
  },
  {
   "cell_type": "code",
   "execution_count": 5,
   "metadata": {
    "collapsed": true
   },
   "outputs": [],
   "source": [
    "F = FiniteField(p)"
   ]
  },
  {
   "cell_type": "code",
   "execution_count": 6,
   "metadata": {
    "collapsed": false
   },
   "outputs": [
    {
     "data": {
      "text/plain": [
       "Finite Field of size 10715086071862673209484250490600018105614048117055336074437503883703510511249361224931983788156958581275946729175531468251871452856923140435984577574698574803934567774824230985421074605062371141877954182153046474983581941267398767559165543946077062914571196477686542167660429831652624386837205668069673"
      ]
     },
     "execution_count": 6,
     "metadata": {},
     "output_type": "execute_result"
    }
   ],
   "source": [
    "F"
   ]
  },
  {
   "cell_type": "code",
   "execution_count": 7,
   "metadata": {
    "collapsed": true
   },
   "outputs": [],
   "source": [
    "C = EllipticCurve(F, [2, 3])"
   ]
  },
  {
   "cell_type": "code",
   "execution_count": 8,
   "metadata": {
    "collapsed": false
   },
   "outputs": [
    {
     "data": {
      "text/plain": [
       "Elliptic Curve defined by y^2 = x^3 + 2*x + 3 over Finite Field of size 10715086071862673209484250490600018105614048117055336074437503883703510511249361224931983788156958581275946729175531468251871452856923140435984577574698574803934567774824230985421074605062371141877954182153046474983581941267398767559165543946077062914571196477686542167660429831652624386837205668069673"
      ]
     },
     "execution_count": 8,
     "metadata": {},
     "output_type": "execute_result"
    }
   ],
   "source": [
    "C"
   ]
  },
  {
   "cell_type": "code",
   "execution_count": null,
   "metadata": {
    "collapsed": true
   },
   "outputs": [],
   "source": []
  }
 ],
 "metadata": {
  "kernelspec": {
   "display_name": "Python 2",
   "language": "python",
   "name": "python2"
  },
  "language_info": {
   "codemirror_mode": {
    "name": "ipython",
    "version": 2
   },
   "file_extension": ".py",
   "mimetype": "text/x-python",
   "name": "python",
   "nbconvert_exporter": "python",
   "pygments_lexer": "ipython2",
   "version": "2.7.13"
  }
 },
 "nbformat": 4,
 "nbformat_minor": 1
}
