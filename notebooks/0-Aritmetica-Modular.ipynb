{
 "cells": [
  {
   "cell_type": "markdown",
   "metadata": {},
   "source": [
    "# O que é o SAGE?"
   ]
  },
  {
   "cell_type": "markdown",
   "metadata": {},
   "source": [
    "SageMath (anteriormente Sage ou SAGE, \"System for Algebra and Geometry Experimentation\") é um software matemático com recursos que cobrem muitos aspectos da matemática, incluindo álgebra, combinatória, matemática numérica, teoria dos números e cálculo. O criador e líder do projeto SageMath, William Stein, é um matemático da Universidade de Washington."
   ]
  },
  {
   "cell_type": "code",
   "execution_count": 3,
   "metadata": {
    "collapsed": false
   },
   "outputs": [
    {
     "data": {
      "text/html": [
       "<img src=\"https://upload.wikimedia.org/wikipedia/commons/thumb/d/d0/William_A._Stein.png/1200px-William_A._Stein.png\"/>"
      ],
      "text/plain": [
       "<IPython.core.display.Image object>"
      ]
     },
     "execution_count": 3,
     "metadata": {},
     "output_type": "execute_result"
    }
   ],
   "source": [
    "from IPython.display import Image\n",
    "from IPython.core.display import HTML \n",
    "Image(url= \"https://upload.wikimedia.org/wikipedia/commons/thumb/d/d0/William_A._Stein.png/1200px-William_A._Stein.png\")"
   ]
  },
  {
   "cell_type": "markdown",
   "metadata": {},
   "source": [
    "# Aritmética Modular"
   ]
  },
  {
   "cell_type": "code",
   "execution_count": 4,
   "metadata": {
    "collapsed": false
   },
   "outputs": [
    {
     "data": {
      "text/plain": [
       "Ring of integers modulo 13"
      ]
     },
     "execution_count": 4,
     "metadata": {},
     "output_type": "execute_result"
    }
   ],
   "source": [
    "R = IntegerModRing(13)\n",
    "R"
   ]
  },
  {
   "cell_type": "code",
   "execution_count": 5,
   "metadata": {
    "collapsed": false
   },
   "outputs": [
    {
     "data": {
      "text/plain": [
       "2"
      ]
     },
     "execution_count": 5,
     "metadata": {},
     "output_type": "execute_result"
    }
   ],
   "source": [
    "R(1) + R(14)"
   ]
  },
  {
   "cell_type": "code",
   "execution_count": 6,
   "metadata": {
    "collapsed": false
   },
   "outputs": [
    {
     "data": {
      "text/plain": [
       "'{0, 1, 2, 3, 4, 5, 6, 7, 8, 9, 10, 11, 12}'"
      ]
     },
     "execution_count": 6,
     "metadata": {},
     "output_type": "execute_result"
    }
   ],
   "source": [
    "def imprime_elementos(Anel):\n",
    "    return '{' + ', '.join(str(elm) for elm in R) + '}'\n",
    "\n",
    "imprime_elementos(R)"
   ]
  },
  {
   "cell_type": "code",
   "execution_count": 7,
   "metadata": {
    "collapsed": false
   },
   "outputs": [
    {
     "data": {
      "text/plain": [
       "[0, 1, 2, 3, 4, 5, 6, 7, 8, 9, 10, 11, 12]"
      ]
     },
     "execution_count": 7,
     "metadata": {},
     "output_type": "execute_result"
    }
   ],
   "source": [
    "list(R)"
   ]
  },
  {
   "cell_type": "code",
   "execution_count": 8,
   "metadata": {
    "collapsed": false
   },
   "outputs": [
    {
     "data": {
      "text/plain": [
       "4"
      ]
     },
     "execution_count": 8,
     "metadata": {},
     "output_type": "execute_result"
    }
   ],
   "source": [
    "mod(18,14)"
   ]
  },
  {
   "cell_type": "code",
   "execution_count": 9,
   "metadata": {
    "collapsed": true
   },
   "outputs": [],
   "source": [
    "A = mod(123, 24)"
   ]
  },
  {
   "cell_type": "code",
   "execution_count": 10,
   "metadata": {
    "collapsed": false
   },
   "outputs": [
    {
     "data": {
      "text/plain": [
       "Ring of integers modulo 24"
      ]
     },
     "execution_count": 10,
     "metadata": {},
     "output_type": "execute_result"
    }
   ],
   "source": [
    "parent(A)"
   ]
  },
  {
   "cell_type": "markdown",
   "metadata": {},
   "source": [
    "## Exponenciação modular:"
   ]
  },
  {
   "cell_type": "markdown",
   "metadata": {},
   "source": [
    "Quais são os últimos $5$ dígitos de\n",
    "$$ 123456789^{123456789} $$\n",
    "\n",
    "** Solução: Basta computar $ 123456789^{123456789} \\pmod{100000} $ **"
   ]
  },
  {
   "cell_type": "code",
   "execution_count": 11,
   "metadata": {
    "collapsed": false
   },
   "outputs": [
    {
     "data": {
      "text/plain": [
       "32709"
      ]
     },
     "execution_count": 11,
     "metadata": {},
     "output_type": "execute_result"
    }
   ],
   "source": [
    "mod(123456789,100000)^123456789"
   ]
  },
  {
   "cell_type": "code",
   "execution_count": 12,
   "metadata": {
    "collapsed": false
   },
   "outputs": [
    {
     "name": "stdout",
     "output_type": "stream",
     "text": [
      "The slowest run took 7.55 times longer than the fastest. This could mean that an intermediate result is being cached.\n",
      "100000 loops, best of 3: 6.35 µs per loop\n"
     ]
    }
   ],
   "source": [
    "%timeit mod(123456789,100000)^123456789"
   ]
  },
  {
   "cell_type": "markdown",
   "metadata": {},
   "source": [
    "# Cifra de César"
   ]
  },
  {
   "cell_type": "code",
   "execution_count": 13,
   "metadata": {
    "collapsed": false
   },
   "outputs": [
    {
     "data": {
      "text/plain": [
       "{' ': 26,\n",
       " '.': 27,\n",
       " 'A': 0,\n",
       " 'B': 1,\n",
       " 'C': 2,\n",
       " 'D': 3,\n",
       " 'E': 4,\n",
       " 'F': 5,\n",
       " 'G': 6,\n",
       " 'H': 7,\n",
       " 'I': 8,\n",
       " 'J': 9,\n",
       " 'K': 10,\n",
       " 'L': 11,\n",
       " 'M': 12,\n",
       " 'N': 13,\n",
       " 'O': 14,\n",
       " 'P': 15,\n",
       " 'Q': 16,\n",
       " 'R': 17,\n",
       " 'S': 18,\n",
       " 'T': 19,\n",
       " 'U': 20,\n",
       " 'V': 21,\n",
       " 'W': 22,\n",
       " 'X': 23,\n",
       " 'Y': 24,\n",
       " 'Z': 25}"
      ]
     },
     "execution_count": 13,
     "metadata": {},
     "output_type": "execute_result"
    }
   ],
   "source": [
    "alfabeto_latino = dict({chr(x): x - ord('A') for x in range(ord('A'), ord('Z') + 1)})\n",
    "alfabeto_latino.update({' ': 26, '.': 27})\n",
    "\n",
    "alfabeto_latino"
   ]
  },
  {
   "cell_type": "code",
   "execution_count": 14,
   "metadata": {
    "collapsed": false
   },
   "outputs": [
    {
     "name": "stdout",
     "output_type": "stream",
     "text": [
      "[0, 19, 0, 16, 20, 4, 26, 0, 18, 26, 3, 20, 0, 18, 26, 7, 14, 17, 0, 18, 26, 3, 0, 26, 19, 0, 17, 3, 4, 27]\n"
     ]
    }
   ],
   "source": [
    "def codifica(mensangem):\n",
    "    return [alfabeto_latino[c.upper()] for c in mensangem]\n",
    "\n",
    "def decodifica(lista):\n",
    "    rev_dict = {value: key for key,value in alfabeto_latino.items()}\n",
    "    return [rev_dict[x] for x in lista]\n",
    "        \n",
    "\n",
    "cod = codifica(\"Ataque as duas horas da tarde.\")\n",
    "print(cod)"
   ]
  },
  {
   "cell_type": "markdown",
   "metadata": {},
   "source": [
    "## Encriptação\n",
    "\n",
    "Escolha uma chave $k \\in \\mathbb{Z}_{28}$, dada uma mensagem $m$ é possível gerar uma mensagem $c$ cifrada da seguinte maneira:\n",
    "\n",
    "\\begin{align*}\n",
    "c = m + k \\pmod{28}\n",
    "\\end{align*}"
   ]
  },
  {
   "cell_type": "code",
   "execution_count": 15,
   "metadata": {
    "collapsed": false
   },
   "outputs": [
    {
     "name": "stdout",
     "output_type": "stream",
     "text": [
      "[2, 21, 2, 18, 22, 6, 0, 2, 20, 0, 5, 22, 2, 20, 0, 9, 16, 19, 2, 20, 0, 5, 2, 0, 21, 2, 19, 5, 6, 1]\n",
      "CVCSWGACUAFWCUAJQTCUAFCAVCTFGB\n"
     ]
    }
   ],
   "source": [
    "def enc(m, k):\n",
    "    return [(caractere + k) % 28 for caractere in m]\n",
    "\n",
    "c = enc(cod, 2)\n",
    "print(c)\n",
    "print(''.join(decodifica(c)))"
   ]
  },
  {
   "cell_type": "markdown",
   "metadata": {},
   "source": [
    "## Decriptação\n",
    "\n",
    "Dados $c$ e $k$, o processo de decriptação é dado por:\n",
    "\n",
    "$$ m = c - k \\pmod{28} $$"
   ]
  },
  {
   "cell_type": "code",
   "execution_count": 16,
   "metadata": {
    "collapsed": false
   },
   "outputs": [
    {
     "name": "stdout",
     "output_type": "stream",
     "text": [
      "ATAQUE AS DUAS HORAS DA TARDE.\n"
     ]
    }
   ],
   "source": [
    "def dec(c, k):\n",
    "    return [(caractere - k) % 28 for caractere in c]\n",
    "\n",
    "m_ = dec(c, 2)\n",
    "print(''.join(decodifica(m_)))"
   ]
  },
  {
   "cell_type": "markdown",
   "metadata": {
    "collapsed": true
   },
   "source": [
    "# Princípio de Kerckhoff"
   ]
  },
  {
   "cell_type": "code",
   "execution_count": 18,
   "metadata": {
    "collapsed": false
   },
   "outputs": [
    {
     "data": {
      "text/html": [
       "<img src=\"https://upload.wikimedia.org/wikipedia/commons/8/83/Auguste_Kerckhoffs.jpg\"/>"
      ],
      "text/plain": [
       "<IPython.core.display.Image object>"
      ]
     },
     "execution_count": 18,
     "metadata": {},
     "output_type": "execute_result"
    }
   ],
   "source": [
    "Image(url= \"https://upload.wikimedia.org/wikipedia/commons/8/83/Auguste_Kerckhoffs.jpg\")\n"
   ]
  },
  {
   "cell_type": "markdown",
   "metadata": {},
   "source": [
    "* O sistema deve ser, se não teoricamente inquebrável, inquebrável na prática.\n",
    "* O design de um sistema não deve exigir segredo, e o compromisso do sistema não deve incomodar os correspondentes (princípio de Kerckhoff).\n",
    "* A chave deve ser memorável sem notas e deve ser facilmente alterável.\n",
    "* Os criptogramas devem ser transmitidos por telégrafo.\n",
    "* O aparelho ou os documentos devem ser portáteis e operáveis por uma única pessoa\n",
    "* O sistema deve ser fácil, não exigindo conhecimento de uma longa lista de regras nem envolvendo estresse mental."
   ]
  },
  {
   "cell_type": "code",
   "execution_count": null,
   "metadata": {
    "collapsed": true
   },
   "outputs": [],
   "source": []
  }
 ],
 "metadata": {
  "kernelspec": {
   "display_name": "SageMath 7.5.1",
   "language": "",
   "name": "sagemath"
  },
  "language_info": {
   "codemirror_mode": {
    "name": "ipython",
    "version": 2
   },
   "file_extension": ".py",
   "mimetype": "text/x-python",
   "name": "python",
   "nbconvert_exporter": "python",
   "pygments_lexer": "ipython2",
   "version": "2.7.13"
  }
 },
 "nbformat": 4,
 "nbformat_minor": 0
}
