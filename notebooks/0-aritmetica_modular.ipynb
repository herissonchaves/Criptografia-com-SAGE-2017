{
 "cells": [
  {
   "cell_type": "markdown",
   "metadata": {},
   "source": [
    "# Aritmética Modular"
   ]
  },
  {
   "cell_type": "code",
   "execution_count": 3,
   "metadata": {
    "collapsed": false
   },
   "outputs": [
    {
     "data": {
      "text/plain": [
       "Ring of integers modulo 13"
      ]
     },
     "execution_count": 3,
     "metadata": {},
     "output_type": "execute_result"
    }
   ],
   "source": [
    "R = IntegerModRing(13)\n",
    "R"
   ]
  },
  {
   "cell_type": "code",
   "execution_count": 21,
   "metadata": {
    "collapsed": false
   },
   "outputs": [
    {
     "data": {
      "text/plain": [
       "2"
      ]
     },
     "execution_count": 21,
     "metadata": {},
     "output_type": "execute_result"
    }
   ],
   "source": [
    "R(1) + R(14)"
   ]
  },
  {
   "cell_type": "code",
   "execution_count": 17,
   "metadata": {
    "collapsed": false
   },
   "outputs": [
    {
     "data": {
      "text/plain": [
       "'{0, 1, 2, 3, 4, 5, 6, 7, 8, 9, 10, 11, 12}'"
      ]
     },
     "execution_count": 17,
     "metadata": {},
     "output_type": "execute_result"
    }
   ],
   "source": [
    "def imprime_elementos(Anel):\n",
    "    return '{' + ', '.join(str(elm) for elm in R) + '}'\n",
    "\n",
    "imprime_elementos(R)"
   ]
  },
  {
   "cell_type": "code",
   "execution_count": 28,
   "metadata": {
    "collapsed": false
   },
   "outputs": [
    {
     "data": {
      "text/plain": [
       "32"
      ]
     },
     "execution_count": 28,
     "metadata": {},
     "output_type": "execute_result"
    }
   ],
   "source": [
    "ord(' ')"
   ]
  },
  {
   "cell_type": "markdown",
   "metadata": {},
   "source": [
    "# Cifra de César"
   ]
  },
  {
   "cell_type": "code",
   "execution_count": 64,
   "metadata": {
    "collapsed": false
   },
   "outputs": [
    {
     "data": {
      "text/plain": [
       "{' ': 26,\n",
       " '.': 27,\n",
       " 'A': 0,\n",
       " 'B': 1,\n",
       " 'C': 2,\n",
       " 'D': 3,\n",
       " 'E': 4,\n",
       " 'F': 5,\n",
       " 'G': 6,\n",
       " 'H': 7,\n",
       " 'I': 8,\n",
       " 'J': 9,\n",
       " 'K': 10,\n",
       " 'L': 11,\n",
       " 'M': 12,\n",
       " 'N': 13,\n",
       " 'O': 14,\n",
       " 'P': 15,\n",
       " 'Q': 16,\n",
       " 'R': 17,\n",
       " 'S': 18,\n",
       " 'T': 19,\n",
       " 'U': 20,\n",
       " 'V': 21,\n",
       " 'W': 22,\n",
       " 'X': 23,\n",
       " 'Y': 24,\n",
       " 'Z': 25}"
      ]
     },
     "execution_count": 64,
     "metadata": {},
     "output_type": "execute_result"
    }
   ],
   "source": [
    "alfabeto_latino = dict({chr(x): x - ord('A') for x in range(ord('A'), ord('Z') + 1)})\n",
    "alfabeto_latino.update({' ': 26, '.': 27})\n",
    "\n",
    "alfabeto_latino"
   ]
  },
  {
   "cell_type": "code",
   "execution_count": 65,
   "metadata": {
    "collapsed": false
   },
   "outputs": [
    {
     "name": "stdout",
     "output_type": "stream",
     "text": [
      "[0, 19, 0, 16, 20, 4, 26, 0, 18, 26, 3, 20, 0, 18, 26, 7, 14, 17, 0, 18, 26, 3, 0, 26, 19, 0, 17, 3, 4, 27]\n"
     ]
    }
   ],
   "source": [
    "def codifica(mensangem):\n",
    "    return [alfabeto_latino[c.upper()] for c in mensangem]\n",
    "\n",
    "def decodifica(lista):\n",
    "    rev_dict = {value: key for key,value in alfabeto_latino.items()}\n",
    "    return [rev_dict[x] for x in lista]\n",
    "        \n",
    "\n",
    "cod = codifica(\"Ataque as duas horas da tarde.\")\n",
    "print(cod)"
   ]
  },
  {
   "cell_type": "markdown",
   "metadata": {},
   "source": [
    "## Encriptação\n",
    "\n",
    "Escolha uma chave $k \\in \\mathbb{Z}_{28}$, dada uma mensagem $m$ é possível gerar uma mensagem $c$ cifrada da seguinte maneira:\n",
    "\n",
    "\\begin{align*}\n",
    "c = m + k \\pmod{28}\n",
    "\\end{align*}"
   ]
  },
  {
   "cell_type": "code",
   "execution_count": 73,
   "metadata": {
    "collapsed": false
   },
   "outputs": [
    {
     "name": "stdout",
     "output_type": "stream",
     "text": [
      "[2, 21, 2, 18, 22, 6, 0, 2, 20, 0, 5, 22, 2, 20, 0, 9, 16, 19, 2, 20, 0, 5, 2, 0, 21, 2, 19, 5, 6, 1]\n"
     ]
    }
   ],
   "source": [
    "def enc(m, k):\n",
    "    return [(caractere + k) % 28 for caractere in m]\n",
    "\n",
    "c = enc(cod, 2)\n",
    "print(c)"
   ]
  },
  {
   "cell_type": "markdown",
   "metadata": {},
   "source": [
    "## Decriptação\n",
    "\n",
    "Dados $c$ e $k$, o processo de decriptação é dado por:\n",
    "\n",
    "$$ m = c - k \\pmod{28} $$"
   ]
  },
  {
   "cell_type": "code",
   "execution_count": 75,
   "metadata": {
    "collapsed": false
   },
   "outputs": [
    {
     "name": "stdout",
     "output_type": "stream",
     "text": [
      "[0, 19, 0, 16, 20, 4, 26, 0, 18, 26, 3, 20, 0, 18, 26, 7, 14, 17, 0, 18, 26, 3, 0, 26, 19, 0, 17, 3, 4, 27]\n"
     ]
    }
   ],
   "source": [
    "def dec(c, k):\n",
    "    return [(caractere - k) % 28 for caractere in c]\n",
    "\n",
    "m_ = dec(c, 2)\n",
    "print(m_)"
   ]
  },
  {
   "cell_type": "code",
   "execution_count": null,
   "metadata": {
    "collapsed": true
   },
   "outputs": [],
   "source": []
  }
 ],
 "metadata": {
  "kernelspec": {
   "display_name": "SageMath 7.5.1",
   "language": "",
   "name": "sagemath"
  },
  "language_info": {
   "codemirror_mode": {
    "name": "ipython",
    "version": 2
   },
   "file_extension": ".py",
   "mimetype": "text/x-python",
   "name": "python",
   "nbconvert_exporter": "python",
   "pygments_lexer": "ipython2",
   "version": "2.7.13"
  }
 },
 "nbformat": 4,
 "nbformat_minor": 0
}
